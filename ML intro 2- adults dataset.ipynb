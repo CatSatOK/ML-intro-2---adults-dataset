{
 "cells": [
  {
   "cell_type": "code",
   "execution_count": 1,
   "id": "48633b04-9a20-4063-93f0-a1998ce3dbb3",
   "metadata": {},
   "outputs": [],
   "source": [
    "#imports\n",
    "import pandas as pd\n",
    "import numpy as np\n",
    "import seaborn as sns\n",
    "from matplotlib import pyplot as plt"
   ]
  },
  {
   "cell_type": "code",
   "execution_count": 2,
   "id": "d3e00efa-6f40-447d-8df7-a3b6bef084d9",
   "metadata": {},
   "outputs": [
    {
     "data": {
      "text/html": [
       "<div>\n",
       "<style scoped>\n",
       "    .dataframe tbody tr th:only-of-type {\n",
       "        vertical-align: middle;\n",
       "    }\n",
       "\n",
       "    .dataframe tbody tr th {\n",
       "        vertical-align: top;\n",
       "    }\n",
       "\n",
       "    .dataframe thead th {\n",
       "        text-align: right;\n",
       "    }\n",
       "</style>\n",
       "<table border=\"1\" class=\"dataframe\">\n",
       "  <thead>\n",
       "    <tr style=\"text-align: right;\">\n",
       "      <th></th>\n",
       "      <th>age</th>\n",
       "      <th>workClass</th>\n",
       "      <th>fnlwgt</th>\n",
       "      <th>education</th>\n",
       "      <th>education-num</th>\n",
       "      <th>marital-status</th>\n",
       "      <th>occupation</th>\n",
       "      <th>relationship</th>\n",
       "      <th>race</th>\n",
       "      <th>sex</th>\n",
       "      <th>capital-gain</th>\n",
       "      <th>capital-loss</th>\n",
       "      <th>hours-per-week</th>\n",
       "      <th>native-country</th>\n",
       "      <th>income</th>\n",
       "    </tr>\n",
       "  </thead>\n",
       "  <tbody>\n",
       "    <tr>\n",
       "      <th>0</th>\n",
       "      <td>39</td>\n",
       "      <td>State-gov</td>\n",
       "      <td>77516</td>\n",
       "      <td>Bachelors</td>\n",
       "      <td>13</td>\n",
       "      <td>Never-married</td>\n",
       "      <td>Adm-clerical</td>\n",
       "      <td>Not-in-family</td>\n",
       "      <td>White</td>\n",
       "      <td>Male</td>\n",
       "      <td>2174</td>\n",
       "      <td>0</td>\n",
       "      <td>40</td>\n",
       "      <td>United-States</td>\n",
       "      <td>&lt;=50K</td>\n",
       "    </tr>\n",
       "    <tr>\n",
       "      <th>1</th>\n",
       "      <td>50</td>\n",
       "      <td>Self-emp-not-inc</td>\n",
       "      <td>83311</td>\n",
       "      <td>Bachelors</td>\n",
       "      <td>13</td>\n",
       "      <td>Married-civ-spouse</td>\n",
       "      <td>Exec-managerial</td>\n",
       "      <td>Husband</td>\n",
       "      <td>White</td>\n",
       "      <td>Male</td>\n",
       "      <td>0</td>\n",
       "      <td>0</td>\n",
       "      <td>13</td>\n",
       "      <td>United-States</td>\n",
       "      <td>&lt;=50K</td>\n",
       "    </tr>\n",
       "    <tr>\n",
       "      <th>2</th>\n",
       "      <td>38</td>\n",
       "      <td>Private</td>\n",
       "      <td>215646</td>\n",
       "      <td>HS-grad</td>\n",
       "      <td>9</td>\n",
       "      <td>Divorced</td>\n",
       "      <td>Handlers-cleaners</td>\n",
       "      <td>Not-in-family</td>\n",
       "      <td>White</td>\n",
       "      <td>Male</td>\n",
       "      <td>0</td>\n",
       "      <td>0</td>\n",
       "      <td>40</td>\n",
       "      <td>United-States</td>\n",
       "      <td>&lt;=50K</td>\n",
       "    </tr>\n",
       "    <tr>\n",
       "      <th>3</th>\n",
       "      <td>53</td>\n",
       "      <td>Private</td>\n",
       "      <td>234721</td>\n",
       "      <td>11th</td>\n",
       "      <td>7</td>\n",
       "      <td>Married-civ-spouse</td>\n",
       "      <td>Handlers-cleaners</td>\n",
       "      <td>Husband</td>\n",
       "      <td>Black</td>\n",
       "      <td>Male</td>\n",
       "      <td>0</td>\n",
       "      <td>0</td>\n",
       "      <td>40</td>\n",
       "      <td>United-States</td>\n",
       "      <td>&lt;=50K</td>\n",
       "    </tr>\n",
       "    <tr>\n",
       "      <th>4</th>\n",
       "      <td>28</td>\n",
       "      <td>Private</td>\n",
       "      <td>338409</td>\n",
       "      <td>Bachelors</td>\n",
       "      <td>13</td>\n",
       "      <td>Married-civ-spouse</td>\n",
       "      <td>Prof-specialty</td>\n",
       "      <td>Wife</td>\n",
       "      <td>Black</td>\n",
       "      <td>Female</td>\n",
       "      <td>0</td>\n",
       "      <td>0</td>\n",
       "      <td>40</td>\n",
       "      <td>Cuba</td>\n",
       "      <td>&lt;=50K</td>\n",
       "    </tr>\n",
       "  </tbody>\n",
       "</table>\n",
       "</div>"
      ],
      "text/plain": [
       "   age         workClass  fnlwgt  education  education-num  \\\n",
       "0   39         State-gov   77516  Bachelors             13   \n",
       "1   50  Self-emp-not-inc   83311  Bachelors             13   \n",
       "2   38           Private  215646    HS-grad              9   \n",
       "3   53           Private  234721       11th              7   \n",
       "4   28           Private  338409  Bachelors             13   \n",
       "\n",
       "       marital-status         occupation   relationship   race     sex  \\\n",
       "0       Never-married       Adm-clerical  Not-in-family  White    Male   \n",
       "1  Married-civ-spouse    Exec-managerial        Husband  White    Male   \n",
       "2            Divorced  Handlers-cleaners  Not-in-family  White    Male   \n",
       "3  Married-civ-spouse  Handlers-cleaners        Husband  Black    Male   \n",
       "4  Married-civ-spouse     Prof-specialty           Wife  Black  Female   \n",
       "\n",
       "   capital-gain  capital-loss  hours-per-week native-country income  \n",
       "0          2174             0              40  United-States  <=50K  \n",
       "1             0             0              13  United-States  <=50K  \n",
       "2             0             0              40  United-States  <=50K  \n",
       "3             0             0              40  United-States  <=50K  \n",
       "4             0             0              40           Cuba  <=50K  "
      ]
     },
     "execution_count": 2,
     "metadata": {},
     "output_type": "execute_result"
    }
   ],
   "source": [
    "#load data and creating column titles\n",
    "columns = [\"age\", \"workClass\", \"fnlwgt\", \"education\", \"education-num\",\"marital-status\", \"occupation\", \"relationship\",\n",
    "          \"race\", \"sex\", \"capital-gain\", \"capital-loss\", \"hours-per-week\", \"native-country\", \"income\"]\n",
    "           \n",
    "df = pd.read_csv('adult.csv', names=columns)\n",
    "df.head()"
   ]
  },
  {
   "cell_type": "markdown",
   "id": "5404bd36-d3d0-43c4-a17b-0f471a2eb1ef",
   "metadata": {},
   "source": [
    "## Initial analysis and feature engineering"
   ]
  },
  {
   "cell_type": "code",
   "execution_count": 3,
   "id": "c34a8511-96a3-4823-a136-411ade6f26ac",
   "metadata": {},
   "outputs": [
    {
     "name": "stdout",
     "output_type": "stream",
     "text": [
      "<class 'pandas.core.frame.DataFrame'>\n",
      "RangeIndex: 48842 entries, 0 to 48841\n",
      "Data columns (total 15 columns):\n",
      " #   Column          Non-Null Count  Dtype \n",
      "---  ------          --------------  ----- \n",
      " 0   age             48842 non-null  int64 \n",
      " 1   workClass       48842 non-null  object\n",
      " 2   fnlwgt          48842 non-null  int64 \n",
      " 3   education       48842 non-null  object\n",
      " 4   education-num   48842 non-null  int64 \n",
      " 5   marital-status  48842 non-null  object\n",
      " 6   occupation      48842 non-null  object\n",
      " 7   relationship    48842 non-null  object\n",
      " 8   race            48842 non-null  object\n",
      " 9   sex             48842 non-null  object\n",
      " 10  capital-gain    48842 non-null  int64 \n",
      " 11  capital-loss    48842 non-null  int64 \n",
      " 12  hours-per-week  48842 non-null  int64 \n",
      " 13  native-country  48842 non-null  object\n",
      " 14  income          48842 non-null  object\n",
      "dtypes: int64(6), object(9)\n",
      "memory usage: 5.6+ MB\n"
     ]
    }
   ],
   "source": [
    "df.info()"
   ]
  },
  {
   "cell_type": "code",
   "execution_count": 4,
   "id": "ec377eff-2d29-4790-86e5-7ea39f9111c6",
   "metadata": {},
   "outputs": [
    {
     "data": {
      "text/plain": [
       "age                  0\n",
       "workClass         2799\n",
       "fnlwgt               0\n",
       "education            0\n",
       "education-num        0\n",
       "marital-status       0\n",
       "occupation        2809\n",
       "relationship         0\n",
       "race                 0\n",
       "sex                  0\n",
       "capital-gain         0\n",
       "capital-loss         0\n",
       "hours-per-week       0\n",
       "native-country     857\n",
       "income               0\n",
       "dtype: int64"
      ]
     },
     "execution_count": 4,
     "metadata": {},
     "output_type": "execute_result"
    }
   ],
   "source": [
    "#appears to be no missing values but read that missing values are replaces with ? so find them \n",
    "df[(df.values.ravel() == \"?\").reshape(df.shape).any(1)]\n",
    "df.isin(['?']).sum(axis=0)"
   ]
  },
  {
   "cell_type": "code",
   "execution_count": 5,
   "id": "eb9e9980-3a24-4800-883d-035f0a0229a0",
   "metadata": {},
   "outputs": [],
   "source": [
    "#a lot of missing values in workClass, occupation and native-country so may delete thosebut for now just replacing with unknown - \n",
    "#see consider deleting after visulisation\n",
    "df = df.replace('?', 'Unknown')"
   ]
  },
  {
   "cell_type": "code",
   "execution_count": 6,
   "id": "55790e25-6639-422d-873b-9c6ae90125fc",
   "metadata": {},
   "outputs": [
    {
     "data": {
      "text/plain": [
       "<AxesSubplot:xlabel='count', ylabel='workClass'>"
      ]
     },
     "execution_count": 6,
     "metadata": {},
     "output_type": "execute_result"
    },
    {
     "data": {
      "image/png": "[encoded data removed]",
      "text/plain": [
       "<Figure size 432x288 with 1 Axes>"
      ]
     },
     "metadata": {
      "needs_background": "light"
     },
     "output_type": "display_data"
    }
   ],
   "source": [
    "#looking at columns with a lot of missing data to see if still of interest\n",
    "#even with big unknown quantity workClass is worth keeping\n",
    "sns.countplot(y='workClass', hue='income', data = df)"
   ]
  },
  {
   "cell_type": "code",
   "execution_count": 7,
   "id": "370bd742-de65-4413-b548-b188d92d428d",
   "metadata": {},
   "outputs": [
    {
     "data": {
      "text/plain": [
       "Private             33906\n",
       "Gov                  6549\n",
       "Self-emp-not-inc     3862\n",
       "Unknown              2799\n",
       "Self-emp-inc         1695\n",
       "Without-pay            21\n",
       "Never-worked           10\n",
       "Name: workClass, dtype: int64"
      ]
     },
     "execution_count": 7,
     "metadata": {},
     "output_type": "execute_result"
    }
   ],
   "source": [
    "#will group the gov groups\n",
    "df.workClass.replace(['State-gov', 'Federal-gov', 'Local-gov'], 'Gov', inplace=True)\n",
    "df.workClass.value_counts()"
   ]
  },
  {
   "cell_type": "code",
   "execution_count": 8,
   "id": "f4722ea1-e1ca-4dde-aad4-65174fe9ba03",
   "metadata": {},
   "outputs": [
    {
     "data": {
      "text/plain": [
       "<AxesSubplot:xlabel='count', ylabel='occupation'>"
      ]
     },
     "execution_count": 8,
     "metadata": {},
     "output_type": "execute_result"
    },
    {
     "data": {
      "image/png": "[encoded data removed]",
      "text/plain": [
       "<Figure size 432x288 with 1 Axes>"
      ]
     },
     "metadata": {
      "needs_background": "light"
     },
     "output_type": "display_data"
    }
   ],
   "source": [
    "sns.countplot(y='occupation', hue='income', data = df)\n",
    "#occupation still of interest with unknown section"
   ]
  },
  {
   "cell_type": "code",
   "execution_count": 9,
   "id": "ca084a59-09af-4b46-98bc-23f03acf8764",
   "metadata": {},
   "outputs": [
    {
     "data": {
      "text/plain": [
       "<AxesSubplot:xlabel='count', ylabel='native-country'>"
      ]
     },
     "execution_count": 9,
     "metadata": {},
     "output_type": "execute_result"
    },
    {
     "data": {
      "image/png": "[encoded data removed]",
      "text/plain": [
       "<Figure size 432x288 with 1 Axes>"
      ]
     },
     "metadata": {
      "needs_background": "light"
     },
     "output_type": "display_data"
    }
   ],
   "source": [
    "#checking range of countries\n",
    "sns.countplot(y='native-country', data = df)"
   ]
  },
  {
   "cell_type": "code",
   "execution_count": 10,
   "id": "a109245c-948f-4c50-bb08-12889be0d289",
   "metadata": {},
   "outputs": [
    {
     "data": {
      "text/plain": [
       "United-States    43832\n",
       "other             5010\n",
       "Name: native-country, dtype: int64"
      ]
     },
     "execution_count": 10,
     "metadata": {},
     "output_type": "execute_result"
    }
   ],
   "source": [
    "#vast majority in US and unkown is 3rd largest group so going to change into US and other\n",
    "countries = df['native-country'].value_counts()\n",
    "num = countries[:1].index\n",
    "df['native-country'] = df['native-country'].where(df['native-country'].isin(num), 'other')\n",
    "df['native-country'].value_counts()"
   ]
  },
  {
   "cell_type": "code",
   "execution_count": 11,
   "id": "9e0f3faa-337a-4ccd-9629-3fadccd9eb71",
   "metadata": {},
   "outputs": [
    {
     "data": {
      "text/plain": [
       "<AxesSubplot:xlabel='count', ylabel='race'>"
      ]
     },
     "execution_count": 11,
     "metadata": {},
     "output_type": "execute_result"
    },
    {
     "data": {
      "image/png": "[encoded data removed]",
      "text/plain": [
       "<Figure size 432x288 with 1 Axes>"
      ]
     },
     "metadata": {
      "needs_background": "light"
     },
     "output_type": "display_data"
    }
   ],
   "source": [
    "#checking range of race\n",
    "sns.countplot(y='race', hue='income', data = df)"
   ]
  },
  {
   "cell_type": "code",
   "execution_count": 12,
   "id": "35957c6c-1cef-49b3-97da-212f789af69f",
   "metadata": {},
   "outputs": [
    {
     "data": {
      "text/plain": [
       "White    41762\n",
       "Other     7080\n",
       "Name: race, dtype: int64"
      ]
     },
     "execution_count": 12,
     "metadata": {},
     "output_type": "execute_result"
    }
   ],
   "source": [
    "#vast majority in white so combining others\n",
    "races = df['race'].value_counts()\n",
    "num = races[:1].index\n",
    "df['race'] = df['race'].where(df['race'].isin(num), 'Other')\n",
    "df['race'].value_counts()"
   ]
  },
  {
   "cell_type": "code",
   "execution_count": 13,
   "id": "824789b9-8b1a-46e0-8ab9-1dc5cd2e859d",
   "metadata": {},
   "outputs": [
    {
     "data": {
      "text/plain": [
       "56"
      ]
     },
     "execution_count": 13,
     "metadata": {},
     "output_type": "execute_result"
    }
   ],
   "source": [
    "#checking for duplicates - there are a few but could just be different ppl so will leave in\n",
    "df.duplicated().sum()"
   ]
  },
  {
   "cell_type": "code",
   "execution_count": 14,
   "id": "31068fa2-277f-470e-a8a4-23797173d115",
   "metadata": {},
   "outputs": [],
   "source": [
    "#education is just string verson of education-num so deleting that\n",
    "df['education'].value_counts()\n",
    "df.drop(['education'], axis=1, inplace=True)"
   ]
  },
  {
   "cell_type": "code",
   "execution_count": 15,
   "id": "ec838380-e571-45fa-98eb-3cbaf844b110",
   "metadata": {},
   "outputs": [
    {
     "name": "stdout",
     "output_type": "stream",
     "text": [
      "<=50K    37155\n",
      ">50K     11687\n",
      "Name: income, dtype: int64\n"
     ]
    },
    {
     "data": {
      "text/plain": [
       "<AxesSubplot:ylabel='income'>"
      ]
     },
     "execution_count": 15,
     "metadata": {},
     "output_type": "execute_result"
    },
    {
     "data": {
      "image/png": "[encoded data removed]",
      "text/plain": [
       "<Figure size 1152x720 with 1 Axes>"
      ]
     },
     "metadata": {},
     "output_type": "display_data"
    }
   ],
   "source": [
    "#pie chart of incomes\n",
    "s = df['income'].value_counts()\n",
    "print(s)\n",
    "plt.figure(figsize=(16,10))\n",
    "s.plot(kind='pie', autopct='%1.1f%%')"
   ]
  },
  {
   "cell_type": "code",
   "execution_count": 16,
   "id": "3968cae2-8d9f-4fe0-a7c9-73d23ef54a4d",
   "metadata": {},
   "outputs": [
    {
     "data": {
      "text/plain": [
       "0    37155\n",
       "1    11687\n",
       "Name: income_num, dtype: int64"
      ]
     },
     "execution_count": 16,
     "metadata": {},
     "output_type": "execute_result"
    }
   ],
   "source": [
    "#making a numerical column for income\n",
    "df['income_num'] = df['income']\n",
    "df['income_num'] = (df.income == '>50K').astype(int)\n",
    "df['income_num'].value_counts()"
   ]
  },
  {
   "cell_type": "code",
   "execution_count": 17,
   "id": "e9df73cf-3c20-48b5-bc6b-8ae95fd1ac5b",
   "metadata": {},
   "outputs": [],
   "source": [
    "#general heatmap to look for areas of interest/correlation in numerical columns - shows very little\n",
    "corr = df.corr()\n",
    "sns.heatmap(corr, cmap='Purples', annot=True).set_title(\"Correlations\")\n",
    "\n",
    "#fnlwgt had very very low correlation with income_num so going to drop it\n",
    "df.drop('fnlwgt', axis=1, inplace=True)"
   ]
  },
  {
   "cell_type": "code",
   "execution_count": 19,
   "id": "dad36f09-a62e-44de-b5a4-7c75349c5aaa",
   "metadata": {},
   "outputs": [
    {
     "data": {
      "image/png": "[encoded data removed]",
      "text/plain": [
       "<Figure size 432x288 with 6 Axes>"
      ]
     },
     "metadata": {
      "needs_background": "light"
     },
     "output_type": "display_data"
    }
   ],
   "source": [
    "#general hist plot to give an idea of distribution etc\n",
    "df.hist()\n",
    "plt.show()"
   ]
  },
  {
   "cell_type": "code",
   "execution_count": 20,
   "id": "a61bc9d3-590d-41b0-9cf0-0850e798f17a",
   "metadata": {},
   "outputs": [
    {
     "data": {
      "text/plain": [
       "<AxesSubplot:xlabel='capital-diff', ylabel='count'>"
      ]
     },
     "execution_count": 20,
     "metadata": {},
     "output_type": "execute_result"
    },
    {
     "data": {
      "image/png": "[encoded data removed]",
      "text/plain": [
       "<Figure size 432x288 with 1 Axes>"
      ]
     },
     "metadata": {
      "needs_background": "light"
     },
     "output_type": "display_data"
    }
   ],
   "source": [
    "#capital gains and loss both heavily skewed so grouping into one column capital difference and grouping\n",
    "df['capital-diff'] = df['capital-gain'] - df['capital-loss']\n",
    "df.drop(['capital-gain', 'capital-loss'], axis = 1, inplace=True)\n",
    "\n",
    "#binning into low and high gain\n",
    "df['capital-diff'].max(), df['capital-diff'].min() #finding range\n",
    "df['capital-diff']=pd.cut(df['capital-diff'], bins=[-5000, 500, 100000], right=True, labels=['loss or minimal_gains', 'high_gains'])\n",
    "df['capital-diff'].value_counts()\n",
    "sns.countplot(x='capital-diff', hue='income', data = df)"
   ]
  },
  {
   "cell_type": "code",
   "execution_count": 21,
   "id": "c4340c36-c996-4490-bdd8-7e24698728b9",
   "metadata": {},
   "outputs": [
    {
     "data": {
      "text/plain": [
       "<AxesSubplot:xlabel='hours-per-week', ylabel='count'>"
      ]
     },
     "execution_count": 21,
     "metadata": {},
     "output_type": "execute_result"
    },
    {
     "data": {
      "image/png": "[encoded data removed]",
      "text/plain": [
       "<Figure size 432x288 with 1 Axes>"
      ]
     },
     "metadata": {
      "needs_background": "light"
     },
     "output_type": "display_data"
    }
   ],
   "source": [
    "#hours per week also heavily skewed so grouping \n",
    "df['hours-per-week'].max(), df['hours-per-week'].min() #finding range\n",
    "df['hours-per-week']=pd.cut(df['hours-per-week'], bins=[0, 19, 40, 100], right=True, labels=['low_hours', 'averge_hours', 'high_hours'])\n",
    "df['hours-per-week'].value_counts()\n",
    "sns.countplot(x='hours-per-week', hue='income', data = df)"
   ]
  },
  {
   "cell_type": "code",
   "execution_count": 22,
   "id": "287814e5-05e2-43f3-8a30-d0373905c717",
   "metadata": {},
   "outputs": [
    {
     "data": {
      "text/plain": [
       "<AxesSubplot:xlabel='sex', ylabel='count'>"
      ]
     },
     "execution_count": 22,
     "metadata": {},
     "output_type": "execute_result"
    },
    {
     "data": {
      "image/png": "[encoded data removed]",
      "text/plain": [
       "<Figure size 432x288 with 1 Axes>"
      ]
     },
     "metadata": {
      "needs_background": "light"
     },
     "output_type": "display_data"
    }
   ],
   "source": [
    "#looking at difference between the genders\n",
    "sns.countplot(x='sex', hue='income', data = df)"
   ]
  },
  {
   "cell_type": "code",
   "execution_count": 23,
   "id": "dddd3f74-e3bb-47fc-8b8b-0249d94f9c4d",
   "metadata": {},
   "outputs": [
    {
     "data": {
      "text/plain": [
       "(Married-civ-spouse       22379\n",
       " Never-married            16117\n",
       " Divorced                  6633\n",
       " Separated                 1530\n",
       " Widowed                   1518\n",
       " Married-spouse-absent      628\n",
       " Married-AF-spouse           37\n",
       " Name: marital-status, dtype: int64,\n",
       " Husband           19716\n",
       " Not-in-family     12583\n",
       " Own-child          7581\n",
       " Unmarried          5125\n",
       " Wife               2331\n",
       " Other-relative     1506\n",
       " Name: relationship, dtype: int64)"
      ]
     },
     "execution_count": 23,
     "metadata": {},
     "output_type": "execute_result"
    }
   ],
   "source": [
    "#considered trying to combine this but will leave for now\n",
    "df['marital-status'].value_counts(), df['relationship'].value_counts()"
   ]
  },
  {
   "cell_type": "code",
   "execution_count": 24,
   "id": "8807a5c9-d5e9-4972-b2a4-72d316e2107a",
   "metadata": {},
   "outputs": [
    {
     "name": "stdout",
     "output_type": "stream",
     "text": [
      "Numerical data columns = Index(['age', 'education-num', 'income_num'], dtype='object')\n",
      "Catagorical data columns = Index(['workClass', 'marital-status', 'occupation', 'relationship', 'race',\n",
      "       'sex', 'native-country', 'income'],\n",
      "      dtype='object')\n"
     ]
    }
   ],
   "source": [
    "#finding numerical and catagorical data\n",
    "num_data = df.select_dtypes(include=['int'])\n",
    "print(f\"Numerical data columns = {num_data.columns}\")\n",
    "\n",
    "cat_data = df.select_dtypes(include=['object'])\n",
    "print(f\"Catagorical data columns = {cat_data.columns}\")"
   ]
  },
  {
   "cell_type": "code",
   "execution_count": 25,
   "id": "68727973-f4d9-4fda-89f5-592b224e8232",
   "metadata": {},
   "outputs": [
    {
     "data": {
      "text/plain": [
       "<AxesSubplot:xlabel='education-num', ylabel='count'>"
      ]
     },
     "execution_count": 25,
     "metadata": {},
     "output_type": "execute_result"
    },
    {
     "data": {
      "image/png": "[encoded data removed]",
      "text/plain": [
       "<Figure size 432x288 with 1 Axes>"
      ]
     },
     "metadata": {
      "needs_background": "light"
     },
     "output_type": "display_data"
    }
   ],
   "source": [
    "#grouping education\n",
    "df['education-num'].value_counts(), df['age'].value_counts()\n",
    "df['education-num']=pd.cut(df['education-num'], bins=[0, 9, 12, 16], right=True, labels=['<=9', '10-12', '13+'])\n",
    "df['education-num'].value_counts()\n",
    "sns.countplot(x='education-num', hue='income', data = df)"
   ]
  },
  {
   "cell_type": "code",
   "execution_count": 26,
   "id": "5e3511bf-2eb6-4173-9c9c-947d861b595c",
   "metadata": {},
   "outputs": [
    {
     "data": {
      "text/plain": [
       "<AxesSubplot:xlabel='age', ylabel='count'>"
      ]
     },
     "execution_count": 26,
     "metadata": {},
     "output_type": "execute_result"
    },
    {
     "data": {
      "image/png": "[encoded data removed]",
      "text/plain": [
       "<Figure size 432x288 with 1 Axes>"
      ]
     },
     "metadata": {
      "needs_background": "light"
     },
     "output_type": "display_data"
    }
   ],
   "source": [
    "#grouping education age\n",
    "df['age'].min(), df['age'].max()\n",
    "df['age']=pd.cut(df['age'], bins=[0, 21, 35, 50, 65, 91], right=True, labels=['<=21', '22-35', '36-50', '51-65', '65+'])\n",
    "df['age'].value_counts()\n",
    "sns.countplot(x='age', hue='income', data = df)"
   ]
  },
  {
   "cell_type": "code",
   "execution_count": 27,
   "id": "2b3cf85b-835f-4ffe-b10f-f9edaa9118e0",
   "metadata": {},
   "outputs": [
    {
     "data": {
      "text/html": [
       "<div>\n",
       "<style scoped>\n",
       "    .dataframe tbody tr th:only-of-type {\n",
       "        vertical-align: middle;\n",
       "    }\n",
       "\n",
       "    .dataframe tbody tr th {\n",
       "        vertical-align: top;\n",
       "    }\n",
       "\n",
       "    .dataframe thead th {\n",
       "        text-align: right;\n",
       "    }\n",
       "</style>\n",
       "<table border=\"1\" class=\"dataframe\">\n",
       "  <thead>\n",
       "    <tr style=\"text-align: right;\">\n",
       "      <th></th>\n",
       "      <th>income_num</th>\n",
       "      <th>workClass_Gov</th>\n",
       "      <th>workClass_Never-worked</th>\n",
       "      <th>workClass_Private</th>\n",
       "      <th>workClass_Self-emp-inc</th>\n",
       "      <th>workClass_Self-emp-not-inc</th>\n",
       "      <th>workClass_Unknown</th>\n",
       "      <th>workClass_Without-pay</th>\n",
       "      <th>marital-status_Divorced</th>\n",
       "      <th>marital-status_Married-AF-spouse</th>\n",
       "      <th>...</th>\n",
       "      <th>age_51-65</th>\n",
       "      <th>age_65+</th>\n",
       "      <th>education-num_&lt;=9</th>\n",
       "      <th>education-num_10-12</th>\n",
       "      <th>education-num_13+</th>\n",
       "      <th>hours-per-week_low_hours</th>\n",
       "      <th>hours-per-week_averge_hours</th>\n",
       "      <th>hours-per-week_high_hours</th>\n",
       "      <th>capital-diff_loss or minimal_gains</th>\n",
       "      <th>capital-diff_high_gains</th>\n",
       "    </tr>\n",
       "  </thead>\n",
       "  <tbody>\n",
       "    <tr>\n",
       "      <th>0</th>\n",
       "      <td>0</td>\n",
       "      <td>1</td>\n",
       "      <td>0</td>\n",
       "      <td>0</td>\n",
       "      <td>0</td>\n",
       "      <td>0</td>\n",
       "      <td>0</td>\n",
       "      <td>0</td>\n",
       "      <td>0</td>\n",
       "      <td>0</td>\n",
       "      <td>...</td>\n",
       "      <td>0</td>\n",
       "      <td>0</td>\n",
       "      <td>0</td>\n",
       "      <td>0</td>\n",
       "      <td>1</td>\n",
       "      <td>0</td>\n",
       "      <td>1</td>\n",
       "      <td>0</td>\n",
       "      <td>0</td>\n",
       "      <td>1</td>\n",
       "    </tr>\n",
       "    <tr>\n",
       "      <th>1</th>\n",
       "      <td>0</td>\n",
       "      <td>0</td>\n",
       "      <td>0</td>\n",
       "      <td>0</td>\n",
       "      <td>0</td>\n",
       "      <td>1</td>\n",
       "      <td>0</td>\n",
       "      <td>0</td>\n",
       "      <td>0</td>\n",
       "      <td>0</td>\n",
       "      <td>...</td>\n",
       "      <td>0</td>\n",
       "      <td>0</td>\n",
       "      <td>0</td>\n",
       "      <td>0</td>\n",
       "      <td>1</td>\n",
       "      <td>1</td>\n",
       "      <td>0</td>\n",
       "      <td>0</td>\n",
       "      <td>1</td>\n",
       "      <td>0</td>\n",
       "    </tr>\n",
       "  </tbody>\n",
       "</table>\n",
       "<p>2 rows × 55 columns</p>\n",
       "</div>"
      ],
      "text/plain": [
       "   income_num  workClass_Gov  workClass_Never-worked  workClass_Private  \\\n",
       "0           0              1                       0                  0   \n",
       "1           0              0                       0                  0   \n",
       "\n",
       "   workClass_Self-emp-inc  workClass_Self-emp-not-inc  workClass_Unknown  \\\n",
       "0                       0                           0                  0   \n",
       "1                       0                           1                  0   \n",
       "\n",
       "   workClass_Without-pay  marital-status_Divorced  \\\n",
       "0                      0                        0   \n",
       "1                      0                        0   \n",
       "\n",
       "   marital-status_Married-AF-spouse  ...  age_51-65  age_65+  \\\n",
       "0                                 0  ...          0        0   \n",
       "1                                 0  ...          0        0   \n",
       "\n",
       "   education-num_<=9  education-num_10-12  education-num_13+  \\\n",
       "0                  0                    0                  1   \n",
       "1                  0                    0                  1   \n",
       "\n",
       "   hours-per-week_low_hours  hours-per-week_averge_hours  \\\n",
       "0                         0                            1   \n",
       "1                         1                            0   \n",
       "\n",
       "   hours-per-week_high_hours  capital-diff_loss or minimal_gains  \\\n",
       "0                          0                                   0   \n",
       "1                          0                                   1   \n",
       "\n",
       "   capital-diff_high_gains  \n",
       "0                        1  \n",
       "1                        0  \n",
       "\n",
       "[2 rows x 55 columns]"
      ]
     },
     "execution_count": 27,
     "metadata": {},
     "output_type": "execute_result"
    }
   ],
   "source": [
    "#drop income and get_dummies of all cat data\n",
    "df.drop('income', axis=1, inplace=True)\n",
    "df = pd.get_dummies(data=df, columns=['workClass', 'marital-status', 'occupation', 'relationship', 'race',\n",
    "       'sex', 'native-country', 'age', 'education-num', 'hours-per-week', 'capital-diff'])\n",
    "df.head(2)"
   ]
  },
  {
   "cell_type": "markdown",
   "id": "0dfd3b82-b73e-406d-b9dc-9cc7385cc4b9",
   "metadata": {},
   "source": [
    "## Modelling"
   ]
  },
  {
   "cell_type": "code",
   "execution_count": 28,
   "id": "a7480ef5-e597-4db2-be13-f20b4dcc1b12",
   "metadata": {},
   "outputs": [
    {
     "data": {
      "text/plain": [
       "((32724, 54), (16118, 54), (32724,), (16118,))"
      ]
     },
     "execution_count": 28,
     "metadata": {},
     "output_type": "execute_result"
    }
   ],
   "source": [
    "#train test split\n",
    "from sklearn.model_selection import train_test_split\n",
    "X = df.drop('income_num', axis=1)\n",
    "y = df['income_num']\n",
    "X_train, X_test, y_train, y_test = train_test_split(X, y, test_size=0.33, random_state=9)\n",
    "X_train.shape, X_test.shape, y_train.shape, y_test.shape"
   ]
  },
  {
   "cell_type": "code",
   "execution_count": 29,
   "id": "4ef0de9a-498c-4598-9bbc-8a2ee101d817",
   "metadata": {},
   "outputs": [],
   "source": [
    "#imports\n",
    "from numpy import mean\n",
    "from numpy import std\n",
    "from sklearn.model_selection import cross_val_score\n",
    "from sklearn.model_selection import RepeatedStratifiedKFold\n",
    "from sklearn.tree import DecisionTreeClassifier\n",
    "from sklearn.svm import SVC\n",
    "from sklearn.ensemble import RandomForestClassifier\n",
    "from sklearn.ensemble import GradientBoostingClassifier\n",
    "from sklearn.ensemble import BaggingClassifier"
   ]
  },
  {
   "cell_type": "code",
   "execution_count": 30,
   "id": "147ebf7e-c040-4e09-8114-06cafba7aa22",
   "metadata": {},
   "outputs": [
    {
     "data": {
      "text/plain": [
       "([DecisionTreeClassifier(),\n",
       "  SVC(),\n",
       "  BaggingClassifier(n_estimators=100),\n",
       "  RandomForestClassifier(),\n",
       "  GradientBoostingClassifier()],\n",
       " ['DTC', 'SVM', 'BAG', 'RF', 'GBM'])"
      ]
     },
     "execution_count": 30,
     "metadata": {},
     "output_type": "execute_result"
    }
   ],
   "source": [
    "#method for getting the models\n",
    "def get_models(): \n",
    "    models, names = list(), list()\n",
    "    # DTC\n",
    "    models.append(DecisionTreeClassifier())\n",
    "    names.append('DTC')\n",
    "    # SVM\n",
    "    models.append(SVC(gamma='scale'))\n",
    "    names.append('SVM')\n",
    "    # Bagging\n",
    "    models.append(BaggingClassifier(n_estimators=100))\n",
    "    names.append('BAG')\n",
    "    # RF\n",
    "    models.append(RandomForestClassifier(n_estimators=100))\n",
    "    names.append('RF')\n",
    "    # GBM\n",
    "    models.append(GradientBoostingClassifier(n_estimators=100))\n",
    "    names.append('GBM')\n",
    "    return models, names\n",
    "\n",
    "#test\n",
    "get_models()"
   ]
  },
  {
   "cell_type": "code",
   "execution_count": 31,
   "id": "c0002d74-a885-4045-85ae-d776993163a5",
   "metadata": {},
   "outputs": [
    {
     "data": {
      "text/plain": [
       "array([0.82456499, 0.82743091, 0.82698608, 0.83312858, 0.82350532,\n",
       "       0.83251433, 0.82534808, 0.82248157, 0.82207207, 0.83681409,\n",
       "       0.82845445, 0.8221085 , 0.82063882, 0.82985258, 0.82780508,\n",
       "       0.81777232, 0.83230958, 0.82760033, 0.82964783, 0.82248157,\n",
       "       0.82333675, 0.82763562, 0.82473382, 0.82678133, 0.82698608,\n",
       "       0.82248157, 0.82862408, 0.83701884, 0.82739558, 0.82923833])"
      ]
     },
     "execution_count": 31,
     "metadata": {},
     "output_type": "execute_result"
    }
   ],
   "source": [
    "# method to evaluate each model\n",
    "def evaluate_model(X, y, model):\n",
    "    # define evaluation procedure\n",
    "    cv = RepeatedStratifiedKFold(n_splits=10, n_repeats=3, random_state=1)\n",
    "    # evaluate model\n",
    "    scores = cross_val_score(model, X, y, scoring='accuracy', cv=cv, n_jobs=-1)\n",
    "    return scores\n",
    "\n",
    "#test with DTC\n",
    "evaluate_model(X, y, DecisionTreeClassifier())"
   ]
  },
  {
   "cell_type": "code",
   "execution_count": 32,
   "id": "71866131-1ffc-448f-8100-0cbf625f73d3",
   "metadata": {},
   "outputs": [
    {
     "name": "stdout",
     "output_type": "stream",
     "text": [
      ">DTC 0.818 (0.007)\n",
      ">SVM 0.842 (0.007)\n",
      ">BAG 0.825 (0.008)\n",
      ">RF 0.828 (0.007)\n",
      ">GBM 0.845 (0.008)\n"
     ]
    }
   ],
   "source": [
    "models, names = get_models()\n",
    "results = list()\n",
    "\n",
    "for i in range(len(models)):\n",
    "    #fit models\n",
    "    models[i].fit(X_train, y_train)\n",
    "    # evaluate the model and store results\n",
    "    scores = evaluate_model(X_test, y_test, models[i])\n",
    "    results.append(scores)\n",
    "    # summarize performance\n",
    "    print('>%s %.3f (%.3f)' % (names[i], mean(scores), std(scores)))\n"
   ]
  },
  {
   "cell_type": "code",
   "execution_count": 33,
   "id": "7ee65985-6e27-4fa0-9aa0-f69f8606ac41",
   "metadata": {},
   "outputs": [
    {
     "data": {
      "image/png": "[encoded data removed]",
      "text/plain": [
       "<Figure size 432x288 with 1 Axes>"
      ]
     },
     "metadata": {
      "needs_background": "light"
     },
     "output_type": "display_data"
    }
   ],
   "source": [
    "# plot the results\n",
    "plt.boxplot(results, labels=names, showmeans=True)\n",
    "plt.show()"
   ]
  },
  {
   "cell_type": "code",
   "execution_count": null,
   "id": "1e291e9b-4c55-4fc1-bec4-8cb633456496",
   "metadata": {},
   "outputs": [],
   "source": []
  },
  {
   "cell_type": "markdown",
   "id": "beaed4ef-f87b-4469-8ddb-55d87806c876",
   "metadata": {},
   "source": [
    "## Alternative method"
   ]
  },
  {
   "cell_type": "code",
   "execution_count": 35,
   "id": "783f9daa-028b-473a-bebc-51a044f1b222",
   "metadata": {},
   "outputs": [],
   "source": [
    "import os\n",
    "import requests"
   ]
  },
  {
   "cell_type": "code",
   "execution_count": 36,
   "id": "8dd9fcd4-8ecf-495c-a174-6ec8c38969f9",
   "metadata": {},
   "outputs": [],
   "source": [
    "#method to get the dataset direct from website and create data file\n",
    "def load_dataset(path, urls):\n",
    "    if not os.path.exists(path):\n",
    "        os.mkdir(path)\n",
    "\n",
    "    for url in urls:\n",
    "        data = requests.get(url).content\n",
    "        filename = os.path.join(path, os.path.basename(url))\n",
    "        with open(filename, \"wb\") as file:\n",
    "            file.write(data)"
   ]
  },
  {
   "cell_type": "code",
   "execution_count": 37,
   "id": "762fc214-a7f8-450c-9d24-c80efb5a914c",
   "metadata": {},
   "outputs": [],
   "source": [
    "#get the data\n",
    "urls = [\"https://archive.ics.uci.edu/ml/machine-learning-databases/adult/adult.data\",\n",
    "        \"https://archive.ics.uci.edu/ml/machine-learning-databases/adult/adult.names\",\n",
    "        \"https://archive.ics.uci.edu/ml/machine-learning-databases/adult/adult.test\"]\n",
    "load_dataset('data', urls)"
   ]
  },
  {
   "cell_type": "code",
   "execution_count": 77,
   "id": "b3a0b1ff-2753-4f58-a934-75f5c27417b7",
   "metadata": {},
   "outputs": [],
   "source": [
    "#make the dataframes\n",
    "columns = [\"age\", \"workClass\", \"fnlwgt\", \"education\", \"education-num\",\"marital-status\", \"occupation\", \"relationship\",\n",
    "          \"race\", \"sex\", \"capital-gain\", \"capital-loss\", \"hours-per-week\", \"native-country\", \"income\"]\n",
    "train_data = pd.read_csv('data/adult.data', names=columns, na_values='?')\n",
    "test_data  = pd.read_csv('data/adult.test', names=columns, skiprows=1, na_values='?')"
   ]
  },
  {
   "cell_type": "code",
   "execution_count": 39,
   "id": "0fe5e989-6c2c-4ae0-bc06-4a907aa18d95",
   "metadata": {},
   "outputs": [
    {
     "name": "stdout",
     "output_type": "stream",
     "text": [
      "<class 'pandas.core.frame.DataFrame'>\n",
      "RangeIndex: 32561 entries, 0 to 32560\n",
      "Data columns (total 15 columns):\n",
      " #   Column          Non-Null Count  Dtype \n",
      "---  ------          --------------  ----- \n",
      " 0   age             32561 non-null  int64 \n",
      " 1   workClass       32561 non-null  object\n",
      " 2   fnlwgt          32561 non-null  int64 \n",
      " 3   education       32561 non-null  object\n",
      " 4   education-num   32561 non-null  int64 \n",
      " 5   marital-status  32561 non-null  object\n",
      " 6   occupation      32561 non-null  object\n",
      " 7   relationship    32561 non-null  object\n",
      " 8   race            32561 non-null  object\n",
      " 9   sex             32561 non-null  object\n",
      " 10  capital-gain    32561 non-null  int64 \n",
      " 11  capital-loss    32561 non-null  int64 \n",
      " 12  hours-per-week  32561 non-null  int64 \n",
      " 13  native-country  32561 non-null  object\n",
      " 14  income          32561 non-null  object\n",
      "dtypes: int64(6), object(9)\n",
      "memory usage: 3.7+ MB\n"
     ]
    }
   ],
   "source": [
    "train_data.info()"
   ]
  },
  {
   "cell_type": "code",
   "execution_count": 40,
   "id": "da628326-7b7a-4819-9d24-4000b1614e1e",
   "metadata": {},
   "outputs": [
    {
     "name": "stdout",
     "output_type": "stream",
     "text": [
      "Catagorical variables = Index(['workClass', 'education', 'marital-status', 'occupation',\n",
      "       'relationship', 'race', 'sex', 'native-country', 'income'],\n",
      "      dtype='object'), Numerical variables = Index(['age', 'fnlwgt', 'education-num', 'capital-gain', 'capital-loss',\n",
      "       'hours-per-week'],\n",
      "      dtype='object')\n"
     ]
    }
   ],
   "source": [
    "#getting numeric and catagorical columns\n",
    "num_attributes = train_data.select_dtypes(include=['int'])\n",
    "cat_attributes = train_data.select_dtypes(include=['object'])\n",
    "print(f'Catagorical variables = {cat_attributes.columns}, Numerical variables = {num_attributes.columns}')"
   ]
  },
  {
   "cell_type": "code",
   "execution_count": 78,
   "id": "0f9e6894-eca3-4e10-ae3c-f80e1ea1022d",
   "metadata": {},
   "outputs": [],
   "source": [
    "#I wont redo all the visualisation but I will drop education and fnlwgt\n",
    "train_data.drop(['education', 'fnlwgt'], axis=1, inplace=True)\n",
    "test_data.drop(['education', 'fnlwgt'], axis=1, inplace=True)"
   ]
  },
  {
   "cell_type": "code",
   "execution_count": 42,
   "id": "387a790b-c9ce-4517-9a96-8fd7f85a56ff",
   "metadata": {},
   "outputs": [],
   "source": [
    "from sklearn.base import BaseEstimator, TransformerMixin\n",
    "from sklearn.pipeline import Pipeline\n",
    "from sklearn.metrics import accuracy_score\n",
    "from sklearn.linear_model import LogisticRegression\n",
    "from sklearn.model_selection import GridSearchCV\n",
    "from sklearn.metrics import classification_report\n",
    "from sklearn.metrics import confusion_matrix\n",
    "from sklearn.preprocessing import StandardScaler\n",
    "from sklearn.pipeline import FeatureUnion\n",
    "from pandas.api.types import CategoricalDtype"
   ]
  },
  {
   "cell_type": "code",
   "execution_count": 43,
   "id": "15290480-d098-4d24-a0ec-9bde4affc607",
   "metadata": {},
   "outputs": [],
   "source": [
    "#method to select the num and cat data columns and apply fit & transform\n",
    "class ColumnsSelector(BaseEstimator, TransformerMixin):\n",
    "  \n",
    "  def __init__(self, type):\n",
    "    self.type = type\n",
    "  \n",
    "  def fit(self, X, y=None):\n",
    "    return self\n",
    "  \n",
    "  def transform(self,X):\n",
    "    return X.select_dtypes(include=[self.type])"
   ]
  },
  {
   "cell_type": "code",
   "execution_count": 44,
   "id": "db70bb68-5694-47d3-965b-32dd8abf6c3b",
   "metadata": {},
   "outputs": [],
   "source": [
    "#pipeline to select and scale numerical data\n",
    "num_pipeline = Pipeline(steps=[\n",
    "    (\"num_attr_selector\", ColumnsSelector(type='int')),\n",
    "    (\"scaler\", StandardScaler())\n",
    "])"
   ]
  },
  {
   "cell_type": "code",
   "execution_count": 45,
   "id": "ca94796d-0b7a-4632-98f2-447c55fdf884",
   "metadata": {},
   "outputs": [],
   "source": [
    "#class to get dummies etc on cat data\n",
    "class CategoricalEncoder(BaseEstimator, TransformerMixin):\n",
    "  \n",
    "  def __init__(self, dropFirst=True):\n",
    "    self.categories=dict()\n",
    "    self.dropFirst=dropFirst\n",
    "    \n",
    "  def fit(self, X, y=None):\n",
    "    join_df = pd.concat([train_data, test_data])\n",
    "    join_df = join_df.select_dtypes(include=['object'])\n",
    "    for column in join_df.columns:\n",
    "      self.categories[column] = join_df[column].value_counts().index.tolist()\n",
    "    return self\n",
    "    \n",
    "  def transform(self, X):\n",
    "    X_copy = X.copy()\n",
    "    X_copy = X_copy.select_dtypes(include=['object'])\n",
    "    for column in X_copy.columns:\n",
    "      X_copy[column] = X_copy[column].astype({column:CategoricalDtype(self.categories[column])})\n",
    "    return pd.get_dummies(X_copy, drop_first=self.dropFirst)"
   ]
  },
  {
   "cell_type": "code",
   "execution_count": 46,
   "id": "d2784853-84ab-4665-a884-f68d1fd80380",
   "metadata": {},
   "outputs": [],
   "source": [
    "#catagorical pipeline to select and encode cat data\n",
    "cat_pipeline = Pipeline(steps=[\n",
    "    (\"cat_attr_selector\", ColumnsSelector(type='object')),\n",
    "    (\"encoder\", CategoricalEncoder(dropFirst=True))\n",
    "])"
   ]
  },
  {
   "cell_type": "code",
   "execution_count": 47,
   "id": "061320d6-9f9b-4e81-aa4d-c6a9d3365660",
   "metadata": {},
   "outputs": [],
   "source": [
    "#feature union to combine the 2 pipelines\n",
    "full_pipeline = FeatureUnion([(\"num_pipe\", num_pipeline), \n",
    "                (\"cat_pipeline\", cat_pipeline)])"
   ]
  },
  {
   "cell_type": "code",
   "execution_count": 48,
   "id": "4dcc2162-2bc0-49df-b551-524424c22dcd",
   "metadata": {},
   "outputs": [],
   "source": [
    "#create train and test\n",
    "train_copy = train_data.copy()\n",
    "train_copy[\"income\"] = train_copy[\"income\"].apply(lambda i: 0 if i==' <=50K' else 1)\n",
    "X_train = train_copy.drop('income', axis =1)\n",
    "Y_train = train_copy['income']"
   ]
  },
  {
   "cell_type": "code",
   "execution_count": 49,
   "id": "dadff940-8a3d-4240-9ea1-0ff1e8774f92",
   "metadata": {},
   "outputs": [
    {
     "data": {
      "text/plain": [
       "LogisticRegression(max_iter=1000, random_state=0)"
      ]
     },
     "execution_count": 49,
     "metadata": {},
     "output_type": "execute_result"
    }
   ],
   "source": [
    "#put x_train to pipeline\n",
    "X_train_processed=full_pipeline.fit_transform(X_train)\n",
    "model = LogisticRegression(random_state=0, solver='lbfgs', max_iter=1000)\n",
    "model.fit(X_train_processed, Y_train)"
   ]
  },
  {
   "cell_type": "code",
   "execution_count": 81,
   "id": "36eb8908-2dd0-4b00-9406-82854153dd16",
   "metadata": {},
   "outputs": [],
   "source": [
    "#test model\n",
    "test_copy = test_data.copy()\n",
    "test_copy[\"income\"] = test_copy[\"income\"].apply(lambda x: 0 if x==' <=50K.' else 1)\n",
    "X_test = test_copy.drop('income', axis =1)\n",
    "Y_test = test_copy['income']"
   ]
  },
  {
   "cell_type": "markdown",
   "id": "ddaff565-059b-4af1-bd1d-0d8d687ac44b",
   "metadata": {},
   "source": [
    "not going to be great results as didn't do the cleaning on this set - its just for technique notes"
   ]
  },
  {
   "cell_type": "code",
   "execution_count": 83,
   "id": "bd5b8d43-bf38-4788-85c6-f6efdcf0ca77",
   "metadata": {},
   "outputs": [
    {
     "data": {
      "text/plain": [
       "0.8527117498925127"
      ]
     },
     "execution_count": 83,
     "metadata": {},
     "output_type": "execute_result"
    }
   ],
   "source": [
    "#apply to test dataset and get accuracy score\n",
    "X_test_processed = full_pipeline.fit_transform(X_test)\n",
    "predicted_classes = model.predict(X_test_processed)\n",
    "\n",
    "accuracy_score(predicted_classes, Y_test.values)"
   ]
  },
  {
   "cell_type": "code",
   "execution_count": 84,
   "id": "dc762f4c-d051-4536-bd93-5299ff290f2a",
   "metadata": {},
   "outputs": [
    {
     "data": {
      "text/plain": [
       "Text(33.0, 0.5, 'Actual classes')"
      ]
     },
     "execution_count": 84,
     "metadata": {},
     "output_type": "execute_result"
    },
    {
     "data": {
      "image/png": "[encoded data removed]",
      "text/plain": [
       "<Figure size 432x288 with 2 Axes>"
      ]
     },
     "metadata": {
      "needs_background": "light"
     },
     "output_type": "display_data"
    }
   ],
   "source": [
    "#confusion matrix\n",
    "cfm = confusion_matrix(predicted_classes, Y_test.values)\n",
    "sns.heatmap(cfm, annot=True)\n",
    "plt.xlabel('Predicted classes')\n",
    "plt.ylabel('Actual classes')"
   ]
  },
  {
   "cell_type": "code",
   "execution_count": 85,
   "id": "17e2df0c-c324-4f2d-bca1-50c35c739b40",
   "metadata": {},
   "outputs": [
    {
     "name": "stdout",
     "output_type": "stream",
     "text": [
      "0.8518166841520134\n"
     ]
    }
   ],
   "source": [
    "#cross val\n",
    "cross_val_model = LogisticRegression(random_state=0, solver='lbfgs', max_iter=1000)\n",
    "scores = cross_val_score(cross_val_model, X_train_processed, \n",
    "         Y_train, cv=5)\n",
    "print(np.mean(scores))"
   ]
  },
  {
   "cell_type": "code",
   "execution_count": 89,
   "id": "76d276dc-4cdf-4c79-8f04-b61e0a539bbb",
   "metadata": {},
   "outputs": [
    {
     "name": "stderr",
     "output_type": "stream",
     "text": [
      "C:\\Users\\catri\\anaconda3\\lib\\site-packages\\sklearn\\model_selection\\_validation.py:372: FitFailedWarning: \n",
      "50 fits failed out of a total of 100.\n",
      "The score on these train-test partitions for these parameters will be set to nan.\n",
      "If these failures are not expected, you can try to debug them by setting error_score='raise'.\n",
      "\n",
      "Below are more details about the failures:\n",
      "--------------------------------------------------------------------------------\n",
      "50 fits failed with the following error:\n",
      "Traceback (most recent call last):\n",
      "  File \"C:\\Users\\catri\\anaconda3\\lib\\site-packages\\sklearn\\model_selection\\_validation.py\", line 681, in _fit_and_score\n",
      "    estimator.fit(X_train, y_train, **fit_params)\n",
      "  File \"C:\\Users\\catri\\anaconda3\\lib\\site-packages\\sklearn\\linear_model\\_logistic.py\", line 1461, in fit\n",
      "    solver = _check_solver(self.solver, self.penalty, self.dual)\n",
      "  File \"C:\\Users\\catri\\anaconda3\\lib\\site-packages\\sklearn\\linear_model\\_logistic.py\", line 447, in _check_solver\n",
      "    raise ValueError(\n",
      "ValueError: Solver lbfgs supports only 'l2' or 'none' penalties, got l1 penalty.\n",
      "\n",
      "  warnings.warn(some_fits_failed_message, FitFailedWarning)\n",
      "C:\\Users\\catri\\anaconda3\\lib\\site-packages\\sklearn\\model_selection\\_search.py:969: UserWarning: One or more of the test scores are non-finite: [       nan 0.85181668        nan 0.85150954        nan 0.85154025\n",
      "        nan 0.85150954        nan 0.85154025        nan 0.85150954\n",
      "        nan 0.85147882        nan 0.8514174         nan 0.85147882\n",
      "        nan 0.85144811]\n",
      "  warnings.warn(\n"
     ]
    },
    {
     "name": "stdout",
     "output_type": "stream",
     "text": [
      "Best Penalty: l2\n",
      "Best C: 1.0\n"
     ]
    }
   ],
   "source": [
    "#grid search\n",
    "\n",
    "# penalty specifies the norm in the penalization\n",
    "penalty = ['l1', 'l2']\n",
    "# C is the inverese of regularization parameter\n",
    "C = np.logspace(0, 4, 10)\n",
    "\n",
    "random_state=[0]\n",
    "\n",
    "# creating a dictionary of hyperparameters\n",
    "hyperparameters = dict(C=C, penalty=penalty, random_state=random_state)\n",
    "\n",
    "clf = GridSearchCV(estimator = model, param_grid = hyperparameters, cv=5)\n",
    "best_model = clf.fit(X_train_processed, Y_train)\n",
    "print('Best Penalty:', best_model.best_estimator_.get_params() ['penalty'])\n",
    "print('Best C:', best_model.best_estimator_.get_params()['C'])"
   ]
  },
  {
   "cell_type": "code",
   "execution_count": 90,
   "id": "1130a3d3-cf29-4ec6-a234-0f89be21747b",
   "metadata": {},
   "outputs": [
    {
     "data": {
      "text/plain": [
       "0.8527117498925127"
      ]
     },
     "execution_count": 90,
     "metadata": {},
     "output_type": "execute_result"
    }
   ],
   "source": [
    "#predictiong best model\n",
    "best_predicted_values = best_model.predict(X_test_processed)\n",
    "accuracy_score(best_predicted_values, Y_test.values)"
   ]
  },
  {
   "cell_type": "code",
   "execution_count": null,
   "id": "da87cf2b-c1ac-496f-b66a-68a54b698996",
   "metadata": {},
   "outputs": [],
   "source": [
    "#save model with pickle:\n",
    "#filename = 'final_model.sav'\n",
    "#pickle.dump(model, open(filename, 'wb'))\n",
    "\n",
    "#how to load model from pickle:\n",
    "#saved_model = pickle.load(open(filename, 'rb')) "
   ]
  }
 ],
 "metadata": {
  "kernelspec": {
   "display_name": "Python 3 (ipykernel)",
   "language": "python",
   "name": "python3"
  },
  "language_info": {
   "codemirror_mode": {
    "name": "ipython",
    "version": 3
   },
   "file_extension": ".py",
   "mimetype": "text/x-python",
   "name": "python",
   "nbconvert_exporter": "python",
   "pygments_lexer": "ipython3",
   "version": "3.8.12"
  }
 },
 "nbformat": 4,
 "nbformat_minor": 5
}
